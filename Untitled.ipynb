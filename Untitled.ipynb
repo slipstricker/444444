{
  "nbformat": 4,
  "nbformat_minor": 0,
  "metadata": {
    "colab": {
      "name": "Untitled",
      "provenance": [],
      "authorship_tag": "ABX9TyMSnYd1iHr/6JkjYzvqmuoZ",
      "include_colab_link": true
    },
    "kernelspec": {
      "name": "python3",
      "display_name": "Python 3"
    },
    "language_info": {
      "name": "python"
    }
  },
  "cells": [
    {
      "cell_type": "markdown",
      "metadata": {
        "id": "view-in-github",
        "colab_type": "text"
      },
      "source": [
        "<a href=\"https://colab.research.google.com/github/slipstricker/444444/blob/master/Untitled.ipynb\" target=\"_parent\"><img src=\"https://colab.research.google.com/assets/colab-badge.svg\" alt=\"Open In Colab\"/></a>"
      ]
    },
    {
      "cell_type": "code",
      "execution_count": 118,
      "metadata": {
        "id": "FktIgJSbQH2s"
      },
      "outputs": [],
      "source": [
        "import requests\n",
        "import time\n",
        "from bs4 import BeautifulSoup\n",
        "from requests_html import HTMLSession"
      ]
    },
    {
      "cell_type": "code",
      "source": [
        "url = \"https://an1.com/149-temple-run-2-mod-apk-free-android.html#DW\"\n",
        "r = requests.get(url)\n",
        "s = HTMLSession()"
      ],
      "metadata": {
        "id": "1xOIFSrjQNvx"
      },
      "execution_count": 119,
      "outputs": []
    },
    {
      "cell_type": "code",
      "source": [
        "headers = {'User-Agent': \"Mozilla/5.0 (Windows NT 10.0; Win64; x64) AppleWebKit/537.36 \\\n",
        "    (KHTML, like Gecko) Chrome / 86.0.4240.198Safari / 537.36\"}"
      ],
      "metadata": {
        "id": "ZR6yriqbU1-y"
      },
      "execution_count": 113,
      "outputs": []
    },
    {
      "cell_type": "code",
      "source": [
        "DOWNLOAD = soup.find('a', class_ = 'download_line').attrs[\"href\"]"
      ],
      "metadata": {
        "id": "r7Qm2mMCSEpD"
      },
      "execution_count": 114,
      "outputs": []
    },
    {
      "cell_type": "code",
      "source": [
        "baixarlink = print(\"https://an1.com\"+DOWNLOAD)"
      ],
      "metadata": {
        "colab": {
          "base_uri": "https://localhost:8080/"
        },
        "id": "gGadG8IHp0AR",
        "outputId": "5d166c9e-29b4-4026-da2a-9f90e43cf208"
      },
      "execution_count": 115,
      "outputs": [
        {
          "output_type": "stream",
          "name": "stdout",
          "text": [
            "https://an1.com/file_149-dw.html\n"
          ]
        }
      ]
    },
    {
      "cell_type": "code",
      "source": [
        "url2 = baixarlink\n",
        "response = s.get('https://an1.com/file_149-dw.html')"
      ],
      "metadata": {
        "id": "z3yBlzrZqBuA"
      },
      "execution_count": 120,
      "outputs": []
    },
    {
      "cell_type": "code",
      "source": [
        ""
      ],
      "metadata": {
        "id": "GCu8P2-pskPi"
      },
      "execution_count": null,
      "outputs": []
    }
  ]
}